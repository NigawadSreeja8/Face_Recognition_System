{
 "cells": [
  {
   "cell_type": "code",
   "execution_count": 1,
   "metadata": {},
   "outputs": [],
   "source": [
    "import numpy as np\n",
    "import os\n",
    "import cv2"
   ]
  },
  {
   "cell_type": "code",
   "execution_count": 2,
   "metadata": {},
   "outputs": [],
   "source": [
    "face_detector = cv2.CascadeClassifier('haarcascade_frontalface_default.xml')"
   ]
  },
  {
   "cell_type": "code",
   "execution_count": 3,
   "metadata": {},
   "outputs": [],
   "source": [
    "cap=cv2.VideoCapture(0)"
   ]
  },
  {
   "cell_type": "code",
   "execution_count": 4,
   "metadata": {},
   "outputs": [
    {
     "name": "stdout",
     "output_type": "stream",
     "text": [
      "\n",
      " enter the user  id:1\n"
     ]
    }
   ],
   "source": [
    "face_id=input('\\n enter the user  id:')\n",
    "count=0\n",
    "while(True):\n",
    "    ret,img=cap.read()\n",
    "    gray=cv2.cvtColor(img,cv2.COLOR_BGR2GRAY)\n",
    "    faces=face_detector.detectMultiScale(gray,1.3,5)\n",
    "    for (x,y,w,h) in faces:\n",
    "        cv2.rectangle(img,(x,y),(x+w,y+h),(255,0,0),2)\n",
    "        count+=1\n",
    "        cv2.imwrite(\"C:/Users/91955/OneDrive/Pictures/Intern/\"+ str(face_id)+'.'+str(count)+\".jpg\",gray[y:y+h,x:x+w])\n",
    "        cv2.imshow('image',img)\n",
    "    if cv2.waitKey(1)==13 or count == 100:\n",
    "        break\n",
    "    \n",
    "\n",
    "cap.release()\n",
    "cv2.destroyAllWindows()\n",
    "    "
   ]
  },
  {
   "cell_type": "code",
   "execution_count": 5,
   "metadata": {},
   "outputs": [
    {
     "name": "stdout",
     "output_type": "stream",
     "text": [
      "model trained successfully\n",
      "\n",
      " [INFO] 2 faces trained. Exiting Program\n"
     ]
    }
   ],
   "source": [
    "from PIL import Image\n",
    "path='C:/Users/91955/OneDrive/Pictures/Intern/'\n",
    "model=cv2.face.LBPHFaceRecognizer_create()\n",
    "def getImagesAndLabels(path):\n",
    "    imagePaths = [os.path.join(path,f) for f in os.listdir(path)]     \n",
    "    faceSamples=[]\n",
    "    ids = []\n",
    "    for imagePath in imagePaths:\n",
    "        PIL_img = Image.open(imagePath).convert('L') # grayscale\n",
    "        img_numpy = np.array(PIL_img,'uint8')\n",
    "        id = int(os.path.split(imagePath)[-1].split(\".\")[0])\n",
    "        faces = face_detector.detectMultiScale(img_numpy)\n",
    "        for (x,y,w,h) in faces:\n",
    "            faceSamples.append(img_numpy[y:y+h,x:x+w])\n",
    "            ids.append(id)\n",
    "    return faceSamples,ids\n",
    "faces,ids = getImagesAndLabels(path)\n",
    "model.train(faces, np.array(ids))\n",
    "model.write('C:/Users/91955/OneDrive/Desktop/trainer')\n",
    "print(\"model trained successfully\")\n",
    "print(\"\\n [INFO] {0} faces trained. Exiting Program\".format(len(np.unique(ids))))\n",
    "\n",
    "\n"
   ]
  },
  {
   "cell_type": "code",
   "execution_count": null,
   "metadata": {},
   "outputs": [],
   "source": []
  },
  {
   "cell_type": "code",
   "execution_count": 6,
   "metadata": {},
   "outputs": [],
   "source": [
    "names = ['None', 'face1', 'face2', 'face3', 'face4', 'face5','face6','face7','face8','face9','face10']\n",
    "\n",
    "model.read('C:/Users/91955/OneDrive/Desktop/trainer')\n",
    "face_detector = cv2.CascadeClassifier('haarcascade_frontalface_default.xml')\n",
    "cap.set(3, 640)\n",
    "cap.set(4, 480)\n",
    "minW = 0.1*cap.get(3)\n",
    "minH = 0.1*cap.get(4)\n",
    "cap=cv2.VideoCapture(0)\n",
    "while True:\n",
    "    ret,img=cap.read()\n",
    "    gray=cv2.cvtColor(img,cv2.COLOR_BGR2GRAY)\n",
    "    faces=face_detector.detectMultiScale(gray,1.3,5,minSize = (int(minW), int(minH)),)\n",
    "    id=0\n",
    "    for (x,y,w,h) in faces:\n",
    "        cv2.rectangle(img,(x,y),(x+w,y+h),[255,0,0],2)\n",
    "        id,confidence=model.predict(gray[y:y+h,x:x+w])\n",
    "        if (confidence < 100):\n",
    "            id = names[id]\n",
    "        else:\n",
    "            id = \"unknown\"\n",
    "        cv2.putText(img,str(id),(x-10, y-10),\n",
    "                    cv2.FONT_HERSHEY_SIMPLEX, 0.7, (0, 0, 255), 1)\n",
    "    cv2.imshow('frame',img)\n",
    "    if cv2.waitKey(10)==13:\n",
    "        break\n",
    "cap.release()\n",
    "cv2.destroyAllWindows()     "
   ]
  },
  {
   "cell_type": "code",
   "execution_count": null,
   "metadata": {},
   "outputs": [],
   "source": []
  }
 ],
 "metadata": {
  "kernelspec": {
   "display_name": "Python 3",
   "language": "python",
   "name": "python3"
  },
  "language_info": {
   "codemirror_mode": {
    "name": "ipython",
    "version": 3
   },
   "file_extension": ".py",
   "mimetype": "text/x-python",
   "name": "python",
   "nbconvert_exporter": "python",
   "pygments_lexer": "ipython3",
   "version": "3.7.6"
  }
 },
 "nbformat": 4,
 "nbformat_minor": 4
}
